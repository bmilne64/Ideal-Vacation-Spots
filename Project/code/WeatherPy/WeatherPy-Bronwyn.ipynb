{
 "cells": [
  {
   "cell_type": "markdown",
   "metadata": {},
   "source": [
    "# WeatherPy\n",
    "----\n",
    "\n",
    "#### Note\n",
    "* Instructions have been included for each segment. You do not have to follow them exactly, but they are included to help you think through the steps."
   ]
  },
  {
   "cell_type": "code",
   "execution_count": 1,
   "metadata": {
    "scrolled": true
   },
   "outputs": [],
   "source": [
    "# Dependencies and Setup\n",
    "import matplotlib.pyplot as plt\n",
    "import pandas as pd\n",
    "import numpy as np\n",
    "import requests\n",
    "import time\n",
    "from scipy.stats import linregress\n",
    "\n",
    "# Import API key\n",
    "from api_keys import weather_api_key\n",
    "\n",
    "# Incorporated citipy to determine city based on latitude and longitude\n",
    "from citipy import citipy\n",
    "\n",
    "# Output File (CSV)\n",
    "output_data_file = \"output_data/cities.csv\"\n",
    "\n",
    "# Range of latitudes and longitudes\n",
    "lat_range = (-90, 90)\n",
    "lng_range = (-180, 180)"
   ]
  },
  {
   "cell_type": "markdown",
   "metadata": {},
   "source": [
    "## Generate Cities List"
   ]
  },
  {
   "cell_type": "code",
   "execution_count": 2,
   "metadata": {},
   "outputs": [
    {
     "data": {
      "text/plain": [
       "597"
      ]
     },
     "execution_count": 2,
     "metadata": {},
     "output_type": "execute_result"
    }
   ],
   "source": [
    "# List for holding lat_lngs and cities\n",
    "lat_lngs = []\n",
    "cities = []\n",
    "\n",
    "# Create a set of random lat and lng combinations\n",
    "lats = np.random.uniform(lat_range[0], lat_range[1], size=1500)\n",
    "lngs = np.random.uniform(lng_range[0], lng_range[1], size=1500)\n",
    "lat_lngs = zip(lats, lngs)\n",
    "\n",
    "# Identify nearest city for each lat, lng combination\n",
    "for lat_lng in lat_lngs:\n",
    "    city = citipy.nearest_city(lat_lng[0], lat_lng[1]).city_name\n",
    "    \n",
    "    # If the city is unique, then add it to a our cities list\n",
    "    if city not in cities:\n",
    "        cities.append(city)\n",
    "\n",
    "# Print the city count to confirm sufficient count\n",
    "len(cities)"
   ]
  },
  {
   "cell_type": "markdown",
   "metadata": {},
   "source": [
    "### Perform API Calls\n",
    "* Perform a weather check on each city using a series of successive API calls.\n",
    "* Include a print log of each city as it'sbeing processed (with the city number and city name).\n"
   ]
  },
  {
   "cell_type": "code",
   "execution_count": 3,
   "metadata": {},
   "outputs": [],
   "source": [
    "# Save config information\n",
    "url = \"http://api.openweathermap.org/data/2.5/weather?\"\n",
    "\n",
    "# Build query URL\n",
    "query_url = url + \"q=\" + city + '&units=imperial' + \"&appid=\" + weather_api_key "
   ]
  },
  {
   "cell_type": "code",
   "execution_count": 4,
   "metadata": {},
   "outputs": [
    {
     "data": {
      "text/plain": [
       "{'coord': {'lon': -50.2056, 'lat': -30.1811},\n",
       " 'weather': [{'id': 802,\n",
       "   'main': 'Clouds',\n",
       "   'description': 'scattered clouds',\n",
       "   'icon': '03d'}],\n",
       " 'base': 'stations',\n",
       " 'main': {'temp': 65.57,\n",
       "  'feels_like': 65.5,\n",
       "  'temp_min': 65.57,\n",
       "  'temp_max': 65.57,\n",
       "  'pressure': 1017,\n",
       "  'humidity': 78,\n",
       "  'sea_level': 1017,\n",
       "  'grnd_level': 1016},\n",
       " 'visibility': 10000,\n",
       " 'wind': {'speed': 7.45, 'deg': 142, 'gust': 10.71},\n",
       " 'clouds': {'all': 29},\n",
       " 'dt': 1666473562,\n",
       " 'sys': {'country': 'BR', 'sunrise': 1666427702, 'sunset': 1666474514},\n",
       " 'timezone': -10800,\n",
       " 'id': 3466165,\n",
       " 'name': 'Cidreira',\n",
       " 'cod': 200}"
      ]
     },
     "execution_count": 4,
     "metadata": {},
     "output_type": "execute_result"
    }
   ],
   "source": [
    "# Get weather data\n",
    "weather_response = requests.get(query_url)\n",
    "weather_json = weather_response.json()\n",
    "weather_json"
   ]
  },
  {
   "cell_type": "code",
   "execution_count": 5,
   "metadata": {
    "scrolled": false
   },
   "outputs": [
    {
     "name": "stdout",
     "output_type": "stream",
     "text": [
      "Beginning Data Retrieval\n",
      "-----------------------------\n",
      "Processing Record 1 of Set 1 | Mahon\n",
      "Processing Record 2 of Set 1 | Longyearbyen\n",
      "Processing Record 3 of Set 1 | Thompson\n",
      "Processing Record 4 of Set 1 | Saint George\n",
      "City not found. Skipping...\n",
      "Processing Record 5 of Set 1 | Butaritari\n",
      "Processing Record 6 of Set 1 | Cape Town\n",
      "Processing Record 7 of Set 1 | Ortona\n",
      "Processing Record 8 of Set 1 | Lebu\n",
      "Processing Record 9 of Set 1 | San Cristobal\n",
      "Processing Record 10 of Set 1 | Ushuaia\n",
      "Processing Record 11 of Set 1 | Atuona\n",
      "Processing Record 12 of Set 1 | Yichun\n",
      "Processing Record 13 of Set 1 | Nemuro\n",
      "Processing Record 14 of Set 1 | Plouzané\n",
      "Processing Record 15 of Set 1 | Saint Paul Harbor\n",
      "Processing Record 16 of Set 1 | Grand Gaube\n",
      "Processing Record 17 of Set 1 | Bluff\n",
      "Processing Record 18 of Set 1 | Kupang\n",
      "City not found. Skipping...\n",
      "Processing Record 19 of Set 1 | Busselton\n",
      "Processing Record 20 of Set 1 | Rikitea\n",
      "City not found. Skipping...\n",
      "Processing Record 21 of Set 1 | Lerwick\n",
      "City not found. Skipping...\n",
      "Processing Record 22 of Set 1 | Bernal\n",
      "Processing Record 23 of Set 1 | Diffa\n",
      "Processing Record 24 of Set 1 | Lohr a. Main\n",
      "Processing Record 25 of Set 1 | Aykhal\n",
      "Processing Record 26 of Set 1 | La Paz\n",
      "Processing Record 27 of Set 1 | Jamestown\n",
      "Processing Record 28 of Set 1 | Tiarei\n",
      "Processing Record 29 of Set 1 | Dera Ghazi Khan\n",
      "Processing Record 30 of Set 1 | Torbay\n",
      "Processing Record 31 of Set 1 | Vaini\n",
      "Processing Record 32 of Set 1 | Winslow\n",
      "Processing Record 33 of Set 1 | Salalah\n",
      "Processing Record 34 of Set 1 | Barrow\n",
      "Processing Record 35 of Set 1 | Zilair\n",
      "Processing Record 36 of Set 1 | Pangnirtung\n",
      "Processing Record 37 of Set 1 | Punta Arenas\n",
      "Processing Record 38 of Set 1 | Vuktyl\n",
      "Processing Record 39 of Set 1 | Price\n",
      "Processing Record 40 of Set 1 | Avarua\n",
      "Processing Record 41 of Set 1 | Bermejillo\n",
      "Processing Record 42 of Set 1 | Blythe\n",
      "Processing Record 43 of Set 1 | Hilo\n",
      "Processing Record 44 of Set 1 | Tuktoyaktuk\n",
      "Processing Record 45 of Set 1 | Chokurdakh\n",
      "Processing Record 46 of Set 1 | Khatanga\n",
      "Processing Record 47 of Set 1 | Diplo\n",
      "Processing Record 48 of Set 1 | Kosovo Polje\n",
      "Processing Record 49 of Set 1 | Tommot\n",
      "Processing Record 50 of Set 1 | Geraldton\n",
      "Processing Record 0 of Set 2 | Kailua\n",
      "Processing Record 1 of Set 2 | Chapais\n",
      "Processing Record 2 of Set 2 | Port Alfred\n",
      "Processing Record 3 of Set 2 | Poum\n",
      "Processing Record 4 of Set 2 | Udachny\n",
      "Processing Record 5 of Set 2 | Ribeira Grande\n",
      "Processing Record 6 of Set 2 | Hobart\n",
      "Processing Record 7 of Set 2 | Catuday\n",
      "Processing Record 8 of Set 2 | Pevek\n",
      "Processing Record 9 of Set 2 | Montevideo\n",
      "Processing Record 10 of Set 2 | Meulaboh\n",
      "Processing Record 11 of Set 2 | Albany\n",
      "Processing Record 12 of Set 2 | Aachen\n",
      "City not found. Skipping...\n",
      "Processing Record 13 of Set 2 | New Norfolk\n",
      "Processing Record 14 of Set 2 | Norman Wells\n",
      "Processing Record 15 of Set 2 | Mar del Plata\n",
      "Processing Record 16 of Set 2 | Dāmghān\n",
      "Processing Record 17 of Set 2 | Cap Malheureux\n",
      "Processing Record 18 of Set 2 | Mataura\n",
      "Processing Record 19 of Set 2 | Kärdla\n",
      "City not found. Skipping...\n",
      "City not found. Skipping...\n",
      "Processing Record 20 of Set 2 | Zyryanka\n",
      "Processing Record 21 of Set 2 | Emba\n",
      "Processing Record 22 of Set 2 | Adrar\n",
      "Processing Record 23 of Set 2 | Harbin\n",
      "Processing Record 24 of Set 2 | Vung Tau\n",
      "City not found. Skipping...\n",
      "City not found. Skipping...\n",
      "Processing Record 25 of Set 2 | Severo-Kuril'sk\n",
      "Processing Record 26 of Set 2 | Yellowknife\n",
      "Processing Record 27 of Set 2 | Deputatsky\n",
      "Processing Record 28 of Set 2 | Hermanus\n",
      "Processing Record 29 of Set 2 | Hithadhoo\n",
      "Processing Record 30 of Set 2 | Airai\n",
      "Processing Record 31 of Set 2 | Lüderitz\n",
      "Processing Record 32 of Set 2 | Gold Coast\n",
      "Processing Record 33 of Set 2 | Dikson\n",
      "Processing Record 34 of Set 2 | Carnarvon\n",
      "Processing Record 35 of Set 2 | Kiryat Gat\n",
      "Processing Record 36 of Set 2 | Kaeo\n",
      "Processing Record 37 of Set 2 | Kapaa\n",
      "Processing Record 38 of Set 2 | Capoterra\n",
      "Processing Record 39 of Set 2 | Wattegama\n",
      "Processing Record 40 of Set 2 | Solnechnyy\n",
      "Processing Record 41 of Set 2 | Ketchikan\n",
      "Processing Record 42 of Set 2 | Qaanaaq\n",
      "Processing Record 43 of Set 2 | Puerto Ayora\n",
      "Processing Record 44 of Set 2 | East London\n",
      "City not found. Skipping...\n",
      "Processing Record 45 of Set 2 | Abalak\n",
      "Processing Record 46 of Set 2 | Bethel\n",
      "Processing Record 47 of Set 2 | Provideniya\n",
      "Processing Record 48 of Set 2 | Mendi\n",
      "Processing Record 49 of Set 2 | Narsaq\n",
      "City not found. Skipping...\n",
      "City not found. Skipping...\n",
      "Processing Record 50 of Set 2 | Kumul\n",
      "Processing Record 0 of Set 3 | Westport\n",
      "Processing Record 1 of Set 3 | Kaitangata\n",
      "Processing Record 2 of Set 3 | Buloh Kasap\n",
      "Processing Record 3 of Set 3 | Tombouctou\n",
      "Processing Record 4 of Set 3 | Malaya Vishera\n",
      "Processing Record 5 of Set 3 | Cidreira\n",
      "Processing Record 6 of Set 3 | Kuril'sk\n",
      "City not found. Skipping...\n",
      "Processing Record 7 of Set 3 | Provincia di Campobasso\n",
      "Processing Record 8 of Set 3 | Ambilobe\n",
      "Processing Record 9 of Set 3 | Mackay\n",
      "Processing Record 10 of Set 3 | Igrim\n",
      "Processing Record 11 of Set 3 | Marsh Harbour\n",
      "Processing Record 12 of Set 3 | Kavaratti\n",
      "Processing Record 13 of Set 3 | Clyde River\n",
      "Processing Record 14 of Set 3 | Chui\n",
      "Processing Record 15 of Set 3 | Tilichiki\n",
      "Processing Record 16 of Set 3 | Gurupá\n",
      "Processing Record 17 of Set 3 | Mahibadhoo\n",
      "Processing Record 18 of Set 3 | Viedma\n",
      "Processing Record 19 of Set 3 | Cochabamba\n",
      "Processing Record 20 of Set 3 | Dingle\n",
      "Processing Record 21 of Set 3 | Pitimbu\n",
      "City not found. Skipping...\n",
      "Processing Record 22 of Set 3 | Omboué\n",
      "Processing Record 23 of Set 3 | Mabaruma\n",
      "Processing Record 24 of Set 3 | Calama\n",
      "Processing Record 25 of Set 3 | Baykit\n",
      "Processing Record 26 of Set 3 | Okhotsk\n",
      "Processing Record 27 of Set 3 | Saskylakh\n",
      "Processing Record 28 of Set 3 | Saint-Philippe\n",
      "City not found. Skipping...\n",
      "Processing Record 29 of Set 3 | Enid\n",
      "Processing Record 30 of Set 3 | Kavieng\n",
      "Processing Record 31 of Set 3 | Luanda\n",
      "Processing Record 32 of Set 3 | Tasiilaq\n",
      "Processing Record 33 of Set 3 | Gibsons\n",
      "Processing Record 34 of Set 3 | Dunedin\n",
      "Processing Record 35 of Set 3 | Hong Kong\n",
      "Processing Record 36 of Set 3 | Alugan\n",
      "Processing Record 37 of Set 3 | Fare\n",
      "City not found. Skipping...\n",
      "Processing Record 38 of Set 3 | Raja\n",
      "Processing Record 39 of Set 3 | Bahía Solano\n",
      "Processing Record 40 of Set 3 | Oddur\n",
      "Processing Record 41 of Set 3 | Sitka\n",
      "Processing Record 42 of Set 3 | Acapulco de Juárez\n",
      "Processing Record 43 of Set 3 | Hasaki\n",
      "Processing Record 44 of Set 3 | Manokwari\n",
      "Processing Record 45 of Set 3 | Kiunga\n",
      "Processing Record 46 of Set 3 | Tual\n",
      "Processing Record 47 of Set 3 | Sittwe\n",
      "City not found. Skipping...\n",
      "Processing Record 48 of Set 3 | Odesskoye\n",
      "Processing Record 49 of Set 3 | Kulhudhuffushi\n",
      "Processing Record 50 of Set 3 | Upernavik\n",
      "Processing Record 0 of Set 4 | Sobolevo\n",
      "Processing Record 1 of Set 4 | Itoman\n",
      "Processing Record 2 of Set 4 | Almaznyy\n",
      "Processing Record 3 of Set 4 | Bonthe\n",
      "Processing Record 4 of Set 4 | Bredasdorp\n",
      "Processing Record 5 of Set 4 | Moose Factory\n",
      "Processing Record 6 of Set 4 | Shenavan\n",
      "Processing Record 7 of Set 4 | Codrington\n",
      "Processing Record 8 of Set 4 | Upata\n",
      "Processing Record 9 of Set 4 | Abatskiy\n",
      "Processing Record 10 of Set 4 | Sioux Lookout\n",
      "Processing Record 11 of Set 4 | Buala\n",
      "Processing Record 12 of Set 4 | Port Hardy\n",
      "Processing Record 13 of Set 4 | Piaçabuçu\n",
      "Processing Record 14 of Set 4 | Beringovskiy\n",
      "Processing Record 15 of Set 4 | Oodweyne\n",
      "Processing Record 16 of Set 4 | Grindavik\n",
      "Processing Record 17 of Set 4 | Ust-Nera\n",
      "Processing Record 18 of Set 4 | Bambous Virieux\n",
      "City not found. Skipping...\n",
      "Processing Record 19 of Set 4 | Bengkulu\n",
      "City not found. Skipping...\n",
      "Processing Record 20 of Set 4 | Lavrentiya\n",
      "Processing Record 21 of Set 4 | Maningrida\n",
      "Processing Record 22 of Set 4 | Saint Anthony\n",
      "Processing Record 23 of Set 4 | Flinders\n",
      "Processing Record 24 of Set 4 | Okato\n",
      "Processing Record 25 of Set 4 | Shizunai-furukawachō\n",
      "City not found. Skipping...\n",
      "Processing Record 26 of Set 4 | São Filipe\n",
      "Processing Record 27 of Set 4 | Kieta\n",
      "Processing Record 28 of Set 4 | Athabasca\n",
      "Processing Record 29 of Set 4 | Ous\n",
      "Processing Record 30 of Set 4 | Missoula\n",
      "Processing Record 31 of Set 4 | Ponta do Sol\n",
      "Processing Record 32 of Set 4 | Aswān\n"
     ]
    },
    {
     "name": "stdout",
     "output_type": "stream",
     "text": [
      "Processing Record 33 of Set 4 | Daru\n",
      "Processing Record 34 of Set 4 | Celestún\n",
      "Processing Record 35 of Set 4 | Pisco\n",
      "Processing Record 36 of Set 4 | Gusev\n",
      "Processing Record 37 of Set 4 | Iqaluit\n",
      "Processing Record 38 of Set 4 | Tiksi\n",
      "Processing Record 39 of Set 4 | Rāvar\n",
      "Processing Record 40 of Set 4 | Provincia di Lecce\n",
      "Processing Record 41 of Set 4 | Altamira\n",
      "Processing Record 42 of Set 4 | San Policarpo\n",
      "Processing Record 43 of Set 4 | Boyolangu\n",
      "Processing Record 44 of Set 4 | Hirson\n",
      "Processing Record 45 of Set 4 | Kaputa\n",
      "Processing Record 46 of Set 4 | Vostok\n",
      "Processing Record 47 of Set 4 | Mitsamiouli\n",
      "City not found. Skipping...\n",
      "Processing Record 48 of Set 4 | Salinas\n",
      "Processing Record 49 of Set 4 | George Town\n",
      "City not found. Skipping...\n",
      "Processing Record 50 of Set 4 | Cartagena\n",
      "Processing Record 0 of Set 5 | Vyartsilya\n",
      "Processing Record 1 of Set 5 | La Libertad\n",
      "Processing Record 2 of Set 5 | Kattivākkam\n",
      "Processing Record 3 of Set 5 | Poya\n",
      "Processing Record 4 of Set 5 | Barra de Tecoanapa\n",
      "Processing Record 5 of Set 5 | Fortuna\n",
      "Processing Record 6 of Set 5 | Ordzhonīkīdze\n",
      "Processing Record 7 of Set 5 | Bowmore\n",
      "Processing Record 8 of Set 5 | Prainha\n",
      "Processing Record 9 of Set 5 | Tateyama\n",
      "Processing Record 10 of Set 5 | Port-Gentil\n",
      "Processing Record 11 of Set 5 | Pottsville\n",
      "Processing Record 12 of Set 5 | Sorong\n",
      "Processing Record 13 of Set 5 | Jinchang\n",
      "City not found. Skipping...\n",
      "Processing Record 14 of Set 5 | Itarema\n",
      "Processing Record 15 of Set 5 | Ploemeur\n",
      "Processing Record 16 of Set 5 | Les Cayes\n",
      "Processing Record 17 of Set 5 | Bagotville\n",
      "Processing Record 18 of Set 5 | Colares\n",
      "Processing Record 19 of Set 5 | Brae\n",
      "Processing Record 20 of Set 5 | Fairbanks\n",
      "Processing Record 21 of Set 5 | Eyl\n",
      "Processing Record 22 of Set 5 | Port Elizabeth\n",
      "Processing Record 23 of Set 5 | Namatanai\n",
      "Processing Record 24 of Set 5 | Pryazha\n",
      "Processing Record 25 of Set 5 | Lamar\n",
      "Processing Record 26 of Set 5 | Stara Vyzhivka\n",
      "Processing Record 27 of Set 5 | Volgorechensk\n",
      "Processing Record 28 of Set 5 | Dianalund\n",
      "Processing Record 29 of Set 5 | Ahipara\n",
      "Processing Record 30 of Set 5 | Vila Velha\n",
      "Processing Record 31 of Set 5 | Dzaoudzi\n",
      "City not found. Skipping...\n",
      "Processing Record 32 of Set 5 | Te Anau\n",
      "Processing Record 33 of Set 5 | Vila Franca do Campo\n",
      "Processing Record 34 of Set 5 | Manta\n",
      "Processing Record 35 of Set 5 | Whitehorse\n",
      "Processing Record 36 of Set 5 | Dalian\n",
      "Processing Record 37 of Set 5 | North Bend\n",
      "Processing Record 38 of Set 5 | San Ciro de Acosta\n",
      "Processing Record 39 of Set 5 | Rouvroy\n",
      "Processing Record 40 of Set 5 | Kemecse\n",
      "Processing Record 41 of Set 5 | Baião\n",
      "Processing Record 42 of Set 5 | Saint-Leu\n",
      "Processing Record 43 of Set 5 | Henties Bay\n",
      "Processing Record 44 of Set 5 | Kenai\n",
      "Processing Record 45 of Set 5 | Al Bardīyah\n",
      "Processing Record 46 of Set 5 | Castro\n",
      "Processing Record 47 of Set 5 | Dahra\n",
      "Processing Record 48 of Set 5 | Tsimlyansk\n",
      "Processing Record 49 of Set 5 | Esenyurt\n",
      "Processing Record 50 of Set 5 | Necochea\n",
      "Processing Record 0 of Set 6 | Nikolskoye\n",
      "Processing Record 1 of Set 6 | Alexandria\n",
      "Processing Record 2 of Set 6 | Pacific Grove\n",
      "Processing Record 3 of Set 6 | Hong Gai\n",
      "Processing Record 4 of Set 6 | Mount Isa\n",
      "Processing Record 5 of Set 6 | Turukhansk\n",
      "Processing Record 6 of Set 6 | Ixtapa\n",
      "Processing Record 7 of Set 6 | Atlantis\n",
      "Processing Record 8 of Set 6 | Malakal\n",
      "Processing Record 9 of Set 6 | Dawlatabad\n",
      "Processing Record 10 of Set 6 | Morón\n",
      "Processing Record 11 of Set 6 | Puerto Ayacucho\n",
      "Processing Record 12 of Set 6 | Mut\n",
      "Processing Record 13 of Set 6 | Shingū\n",
      "Processing Record 14 of Set 6 | Rapid Valley\n",
      "Processing Record 15 of Set 6 | Prokop'yevsk\n",
      "Processing Record 16 of Set 6 | Lakota\n",
      "Processing Record 17 of Set 6 | Guiyang\n",
      "Processing Record 18 of Set 6 | Hualmay\n",
      "Processing Record 19 of Set 6 | Vyyezdnoye\n",
      "Processing Record 20 of Set 6 | Makakilo City\n",
      "Processing Record 21 of Set 6 | Vardø\n",
      "Processing Record 22 of Set 6 | Puerto Cabezas\n",
      "Processing Record 23 of Set 6 | Konde\n",
      "Processing Record 24 of Set 6 | Umm Kaddadah\n",
      "Processing Record 25 of Set 6 | Makīnsk\n",
      "Processing Record 26 of Set 6 | Palizada\n",
      "Processing Record 27 of Set 6 | Putina\n",
      "Processing Record 28 of Set 6 | Mana\n",
      "Processing Record 29 of Set 6 | Pyinmana\n",
      "Processing Record 30 of Set 6 | Aksarka\n",
      "Processing Record 31 of Set 6 | Taungdwingyi\n",
      "Processing Record 32 of Set 6 | Salym\n",
      "Processing Record 33 of Set 6 | Talnakh\n",
      "Processing Record 34 of Set 6 | Wrexham\n",
      "Processing Record 35 of Set 6 | Arman'\n",
      "Processing Record 36 of Set 6 | Darnah\n",
      "Processing Record 37 of Set 6 | Roald\n",
      "Processing Record 38 of Set 6 | Carlsbad\n",
      "Processing Record 39 of Set 6 | Sur\n",
      "Processing Record 40 of Set 6 | Raudeberg\n",
      "Processing Record 41 of Set 6 | Caucaia\n",
      "Processing Record 42 of Set 6 | Aden\n",
      "Processing Record 43 of Set 6 | Marília\n",
      "Processing Record 44 of Set 6 | Tlazazalca\n",
      "Processing Record 45 of Set 6 | Vozhega\n",
      "Processing Record 46 of Set 6 | Tyukalinsk\n",
      "Processing Record 47 of Set 6 | Yangi Marg`ilon\n",
      "Processing Record 48 of Set 6 | Laas\n",
      "Processing Record 49 of Set 6 | Fomboni\n",
      "City not found. Skipping...\n",
      "Processing Record 50 of Set 6 | Port Lincoln\n",
      "Processing Record 0 of Set 7 | San Vicente\n",
      "Processing Record 1 of Set 7 | Port Macquarie\n",
      "Processing Record 2 of Set 7 | Nizhniy Baskunchak\n",
      "Processing Record 3 of Set 7 | Vao\n",
      "Processing Record 4 of Set 7 | Half Moon Bay\n",
      "Processing Record 5 of Set 7 | Coyhaique\n",
      "Processing Record 6 of Set 7 | Tsimmerbude\n",
      "Processing Record 7 of Set 7 | Rantepao\n",
      "Processing Record 8 of Set 7 | Sinnamary\n",
      "Processing Record 9 of Set 7 | Departamento de Maldonado\n",
      "City not found. Skipping...\n",
      "Processing Record 10 of Set 7 | Sarkand\n",
      "Processing Record 11 of Set 7 | Methóni\n",
      "Processing Record 12 of Set 7 | Atar\n",
      "Processing Record 13 of Set 7 | Hailar\n",
      "City not found. Skipping...\n",
      "Processing Record 14 of Set 7 | Sibu\n",
      "Processing Record 15 of Set 7 | Kysyl-Syr\n",
      "Processing Record 16 of Set 7 | Taguatinga\n",
      "Processing Record 17 of Set 7 | Verkhniy Rohachyk\n",
      "City not found. Skipping...\n",
      "Processing Record 18 of Set 7 | Vicksburg\n",
      "Processing Record 19 of Set 7 | Katsuura\n",
      "Processing Record 20 of Set 7 | Kindu\n",
      "Processing Record 21 of Set 7 | Kaseda-shirakame\n",
      "Processing Record 22 of Set 7 | Arnprior\n",
      "Processing Record 23 of Set 7 | Palm Beach\n",
      "Processing Record 24 of Set 7 | Port Hedland\n",
      "Processing Record 25 of Set 7 | High Rock\n",
      "Processing Record 26 of Set 7 | Dunmore Town\n",
      "Processing Record 27 of Set 7 | Canutama\n",
      "Processing Record 28 of Set 7 | Ilulissat\n",
      "Processing Record 29 of Set 7 | Heiligenhaus\n",
      "Processing Record 30 of Set 7 | Adamovka\n",
      "City not found. Skipping...\n",
      "Processing Record 31 of Set 7 | The Pas\n",
      "Processing Record 32 of Set 7 | Lompoc\n",
      "City not found. Skipping...\n",
      "Processing Record 33 of Set 7 | Alta Floresta\n",
      "Processing Record 34 of Set 7 | Dom Pedrito\n",
      "Processing Record 35 of Set 7 | Broome\n",
      "Processing Record 36 of Set 7 | Coos Bay\n",
      "Processing Record 37 of Set 7 | Muros\n",
      "Processing Record 38 of Set 7 | Boa Vista\n",
      "Processing Record 39 of Set 7 | Seoul\n",
      "Processing Record 40 of Set 7 | Pandharpur\n",
      "Processing Record 41 of Set 7 | Toba\n",
      "Processing Record 42 of Set 7 | Fort-Shevchenko\n",
      "Processing Record 43 of Set 7 | Klaksvík\n",
      "Processing Record 44 of Set 7 | Ürümqi\n",
      "Processing Record 45 of Set 7 | Korba\n",
      "Processing Record 46 of Set 7 | Lagoa\n",
      "Processing Record 47 of Set 7 | Aklavik\n",
      "Processing Record 48 of Set 7 | Guerrero Negro\n",
      "Processing Record 49 of Set 7 | Port Moresby\n",
      "Processing Record 50 of Set 7 | Belaya Gora\n",
      "Processing Record 0 of Set 8 | Fendou\n",
      "City not found. Skipping...\n",
      "Processing Record 1 of Set 8 | Korla\n",
      "Processing Record 2 of Set 8 | Arraial do Cabo\n",
      "Processing Record 3 of Set 8 | Coquimbo\n",
      "Processing Record 4 of Set 8 | Kangaatsiaq\n",
      "Processing Record 5 of Set 8 | Langxiang\n",
      "Processing Record 6 of Set 8 | Trairi\n",
      "City not found. Skipping...\n",
      "City not found. Skipping...\n",
      "Processing Record 7 of Set 8 | ‘Ewa Beach\n",
      "Processing Record 8 of Set 8 | High Level\n",
      "Processing Record 9 of Set 8 | Avera\n",
      "Processing Record 10 of Set 8 | Porto Belo\n",
      "Processing Record 11 of Set 8 | Zhangye\n",
      "Processing Record 12 of Set 8 | Storsteinnes\n",
      "Processing Record 13 of Set 8 | Nanortalik\n",
      "Processing Record 14 of Set 8 | Ettaiyapuram\n",
      "Processing Record 15 of Set 8 | Paptalaya\n",
      "Processing Record 16 of Set 8 | Eureka\n",
      "Processing Record 17 of Set 8 | Baijiantan\n"
     ]
    },
    {
     "name": "stdout",
     "output_type": "stream",
     "text": [
      "Processing Record 18 of Set 8 | Yulara\n",
      "Processing Record 19 of Set 8 | Constitución\n",
      "Processing Record 20 of Set 8 | Cherskiy\n",
      "Processing Record 21 of Set 8 | Gualaca\n",
      "Processing Record 22 of Set 8 | Dawson Creek\n",
      "Processing Record 23 of Set 8 | Banjarmasin\n",
      "Processing Record 24 of Set 8 | Lucapa\n",
      "Processing Record 25 of Set 8 | San Andrés\n",
      "Processing Record 26 of Set 8 | Margate\n",
      "Processing Record 27 of Set 8 | Mayo\n",
      "Processing Record 28 of Set 8 | Olafsvik\n",
      "Processing Record 29 of Set 8 | Charters Towers\n",
      "Processing Record 30 of Set 8 | Srednekolymsk\n",
      "Processing Record 31 of Set 8 | Taoudenni\n",
      "Processing Record 32 of Set 8 | Lufilufi\n",
      "Processing Record 33 of Set 8 | Sheboygan\n",
      "Processing Record 34 of Set 8 | Mossamedes\n",
      "Processing Record 35 of Set 8 | Mujiayingzi\n",
      "Processing Record 36 of Set 8 | Kalmunai\n",
      "Processing Record 37 of Set 8 | Dongying\n",
      "Processing Record 38 of Set 8 | Portland\n",
      "Processing Record 39 of Set 8 | Turgutlu\n",
      "Processing Record 40 of Set 8 | Pokhara\n",
      "Processing Record 41 of Set 8 | Natal\n",
      "Processing Record 42 of Set 8 | Shaowu\n",
      "Processing Record 43 of Set 8 | Turaif\n",
      "Processing Record 44 of Set 8 | La Macarena\n",
      "Processing Record 45 of Set 8 | Mangla\n",
      "Processing Record 46 of Set 8 | Khovd\n",
      "Processing Record 47 of Set 8 | San Patricio\n",
      "Processing Record 48 of Set 8 | Diego de Almagro\n",
      "Processing Record 49 of Set 8 | Kletskaya\n",
      "Processing Record 50 of Set 8 | Yong’an\n",
      "Processing Record 0 of Set 9 | Rocha\n",
      "Processing Record 1 of Set 9 | Esim\n",
      "Processing Record 2 of Set 9 | Cockburn Town\n",
      "Processing Record 3 of Set 9 | Andenes\n",
      "Processing Record 4 of Set 9 | Hőgyész\n",
      "Processing Record 5 of Set 9 | Hornepayne\n",
      "Processing Record 6 of Set 9 | Hobyo\n",
      "Processing Record 7 of Set 9 | Benghazi\n",
      "Processing Record 8 of Set 9 | Turzovka\n",
      "City not found. Skipping...\n",
      "Processing Record 9 of Set 9 | Dingzhou\n",
      "Processing Record 10 of Set 9 | Lata\n",
      "City not found. Skipping...\n",
      "Processing Record 11 of Set 9 | San Luis\n",
      "Processing Record 12 of Set 9 | Chifeng\n",
      "Processing Record 13 of Set 9 | Tuatapere\n",
      "Processing Record 14 of Set 9 | Shelopugino\n",
      "Processing Record 15 of Set 9 | Aksu\n",
      "Processing Record 16 of Set 9 | Semīrom\n",
      "Processing Record 17 of Set 9 | Mahébourg\n",
      "Processing Record 18 of Set 9 | São José da Coroa Grande\n",
      "Processing Record 19 of Set 9 | Guider\n",
      "Processing Record 20 of Set 9 | Ancud\n",
      "Processing Record 21 of Set 9 | Alvik\n",
      "Processing Record 22 of Set 9 | Balakhta\n",
      "Processing Record 23 of Set 9 | Wawa\n",
      "Processing Record 24 of Set 9 | Finnsnes\n",
      "Processing Record 25 of Set 9 | Cururupu\n",
      "Processing Record 26 of Set 9 | Hanoi\n",
      "Processing Record 27 of Set 9 | Karpogory\n",
      "Processing Record 28 of Set 9 | Fort Smith\n",
      "Processing Record 29 of Set 9 | Red Bluff\n",
      "Processing Record 30 of Set 9 | Cleveland\n",
      "Processing Record 31 of Set 9 | Wewak\n",
      "Processing Record 32 of Set 9 | Assiut\n",
      "Processing Record 33 of Set 9 | Sibolga\n",
      "Processing Record 34 of Set 9 | Tautira\n",
      "Processing Record 35 of Set 9 | Bell Ville\n",
      "Processing Record 36 of Set 9 | Saint-Augustin\n",
      "Processing Record 37 of Set 9 | Yazman\n",
      "Processing Record 38 of Set 9 | Salinópolis\n",
      "Processing Record 39 of Set 9 | Caravelas\n",
      "Processing Record 40 of Set 9 | Petropavlovsk-Kamchatskiy\n",
      "Processing Record 41 of Set 9 | Cabedelo\n",
      "Processing Record 42 of Set 9 | Juneau\n",
      "Processing Record 43 of Set 9 | Giohar\n",
      "Processing Record 44 of Set 9 | Jūnāgarh\n",
      "Processing Record 45 of Set 9 | Russell\n",
      "Processing Record 46 of Set 9 | Conceição do Araguaia\n",
      "Processing Record 47 of Set 9 | Hay River\n",
      "Processing Record 48 of Set 9 | Hambantota\n",
      "Processing Record 49 of Set 9 | Tadotsu\n",
      "Processing Record 50 of Set 9 | Mahon\n",
      "City not found. Skipping...\n",
      "Processing Record 0 of Set 10 | Kamenka\n",
      "Processing Record 1 of Set 10 | Bandeirantes\n",
      "Processing Record 2 of Set 10 | Dali\n",
      "Processing Record 3 of Set 10 | Samagaltay\n",
      "Processing Record 4 of Set 10 | Aktobe\n",
      "Processing Record 5 of Set 10 | Pundaguitan\n",
      "Processing Record 6 of Set 10 | Chinhoyi\n",
      "Processing Record 7 of Set 10 | Nelson Bay\n",
      "City not found. Skipping...\n",
      "Processing Record 8 of Set 10 | Pangkalanbuun\n",
      "City not found. Skipping...\n",
      "Processing Record 9 of Set 10 | Comodoro Rivadavia\n",
      "Processing Record 10 of Set 10 | Yaan\n",
      "City not found. Skipping...\n",
      "Processing Record 11 of Set 10 | Traverse City\n",
      "Processing Record 12 of Set 10 | Rājula\n",
      "Processing Record 13 of Set 10 | College\n",
      "Processing Record 14 of Set 10 | Kadom\n",
      "Processing Record 15 of Set 10 | Arrondissement de Lannion\n",
      "Processing Record 16 of Set 10 | Lishan\n",
      "Processing Record 17 of Set 10 | Anloga\n",
      "Processing Record 18 of Set 10 | Esperance\n",
      "Processing Record 19 of Set 10 | West Bay\n",
      "City not found. Skipping...\n",
      "Processing Record 20 of Set 10 | Olinda\n",
      "Processing Record 21 of Set 10 | Kutum\n",
      "Processing Record 22 of Set 10 | Naze\n",
      "Processing Record 23 of Set 10 | Lodwar\n",
      "City not found. Skipping...\n",
      "City not found. Skipping...\n",
      "Processing Record 24 of Set 10 | Asahikawa\n",
      "Processing Record 25 of Set 10 | Laredo\n",
      "Processing Record 26 of Set 10 | Leh\n",
      "Processing Record 27 of Set 10 | Tezu\n",
      "Processing Record 28 of Set 10 | Torrington\n",
      "Processing Record 29 of Set 10 | Lucea\n",
      "Processing Record 30 of Set 10 | Laranjeiras do Sul\n",
      "Processing Record 31 of Set 10 | Nyurba\n",
      "Processing Record 32 of Set 10 | Wamba\n",
      "Processing Record 33 of Set 10 | Novy Urengoy\n",
      "Processing Record 34 of Set 10 | Sayyan\n",
      "Processing Record 35 of Set 10 | Bayan\n",
      "Processing Record 36 of Set 10 | Fort Saint James\n",
      "Processing Record 37 of Set 10 | Sola\n",
      "Processing Record 38 of Set 10 | Hirara\n",
      "Processing Record 39 of Set 10 | Holme\n",
      "Processing Record 40 of Set 10 | Brigantine\n",
      "Processing Record 41 of Set 10 | St. George's\n",
      "Processing Record 42 of Set 10 | Tweed\n",
      "Processing Record 43 of Set 10 | Cabo San Lucas\n",
      "City not found. Skipping...\n",
      "City not found. Skipping...\n",
      "Processing Record 44 of Set 10 | Alihe\n",
      "Processing Record 45 of Set 10 | Garoowe\n",
      "City not found. Skipping...\n",
      "Processing Record 46 of Set 10 | Amga\n",
      "Processing Record 47 of Set 10 | Kapoeta\n",
      "Processing Record 48 of Set 10 | Umluj\n",
      "Processing Record 49 of Set 10 | Soyo\n",
      "Processing Record 50 of Set 10 | Sulphur Springs\n",
      "City not found. Skipping...\n",
      "Processing Record 0 of Set 11 | Antalaha\n",
      "Processing Record 1 of Set 11 | Awjilah\n",
      "Processing Record 2 of Set 11 | Kriva Palanka\n",
      "Processing Record 3 of Set 11 | Skjervøy\n",
      "Processing Record 4 of Set 11 | Kars\n",
      "Processing Record 5 of Set 11 | Estelle\n",
      "Processing Record 6 of Set 11 | Dzhebariki-Khaya\n",
      "Processing Record 7 of Set 11 | Povolzhskiy\n",
      "Processing Record 8 of Set 11 | Bétaré Oya\n",
      "Processing Record 9 of Set 11 | Sakon Nakhon\n",
      "Processing Record 10 of Set 11 | Kurmanayevka\n",
      "Processing Record 11 of Set 11 | Riyadh\n",
      "Processing Record 12 of Set 11 | Mogadishu\n",
      "Processing Record 13 of Set 11 | Husavik\n",
      "Processing Record 14 of Set 11 | Mel'nikovo\n",
      "Processing Record 15 of Set 11 | Krasnystaw\n",
      "Processing Record 16 of Set 11 | Sembakung\n",
      "Processing Record 17 of Set 11 | Nizhniy Kuranakh\n",
      "Processing Record 18 of Set 11 | Chicama\n",
      "Processing Record 19 of Set 11 | Tanout\n",
      "Processing Record 20 of Set 11 | Nortelândia\n",
      "Processing Record 21 of Set 11 | Sept-Îles\n",
      "Processing Record 22 of Set 11 | Poso\n",
      "Processing Record 23 of Set 11 | Ialibu\n",
      "Processing Record 24 of Set 11 | Oranjemund\n",
      "Processing Record 25 of Set 11 | Nouakchott\n",
      "Processing Record 26 of Set 11 | Talcahuano\n",
      "Processing Record 27 of Set 11 | Matsumoto\n",
      "Processing Record 28 of Set 11 | Letlhakeng\n",
      "Processing Record 29 of Set 11 | Alice Springs\n",
      "Processing Record 30 of Set 11 | Paciran\n",
      "Processing Record 31 of Set 11 | Ola\n",
      "Processing Record 32 of Set 11 | Mount Gambier\n",
      "Processing Record 33 of Set 11 | Ibrā’\n",
      "Processing Record 34 of Set 11 | Milas\n",
      "Processing Record 35 of Set 11 | Linqiong\n",
      "Processing Record 36 of Set 11 | Marabu\n",
      "City not found. Skipping...\n",
      "Processing Record 37 of Set 11 | Burnie\n",
      "Processing Record 38 of Set 11 | Bathsheba\n",
      "City not found. Skipping...\n",
      "Processing Record 39 of Set 11 | Merauke\n",
      "-------------------------------\n",
      "Data Retrieval Complete\n",
      "-------------------------------\n"
     ]
    }
   ],
   "source": [
    "# Create lists for each varibale needed \n",
    "name = []\n",
    "lat = []\n",
    "long = []\n",
    "max_temp = []\n",
    "humidity = []\n",
    "cloudiness = []\n",
    "wind_speed = []\n",
    "country = []\n",
    "date = []\n",
    "\n",
    "#start counter to record city and set numebr for log \n",
    "city_number = 0\n",
    "set_number = 1\n",
    "\n",
    "#start log statement\n",
    "print(\"Beginning Data Retrieval\")\n",
    "print('-----------------------------')\n",
    "\n",
    "#start for loop for cities list \n",
    "for city in cities:\n",
    "    \n",
    "    try:\n",
    "        #put request in for loop to cycle through cities list\n",
    "        query_url = url + \"q=\" + city + '&units=imperial' + \"&appid=\" + weather_api_key \n",
    "        weather_response = requests.get(query_url)\n",
    "        weather_json = weather_response.json()\n",
    "        \n",
    "        #create variables to create the data before we can store it \n",
    "        #otherwise descrepencies in list length and where data shows \n",
    "        name_city = weather_json['name']\n",
    "        lat_city = weather_json['coord']['lat']\n",
    "        long_city = weather_json['coord']['lon']\n",
    "        max_temp_city = weather_json['main']['temp_max']\n",
    "        humidity_city = weather_json['main']['humidity']\n",
    "        cloudiness_city = weather_json['clouds']['all']\n",
    "        wind_speed_city = weather_json['wind']['speed']\n",
    "        country_city = weather_json['sys']['country']\n",
    "        date_city = weather_json['dt']\n",
    "        \n",
    "        #append lists\n",
    "        name.append(name_city)\n",
    "        lat.append(lat_city)\n",
    "        long.append(long_city)\n",
    "        max_temp.append( max_temp_city)\n",
    "        humidity.append(humidity_city)\n",
    "        cloudiness.append(cloudiness_city)\n",
    "        wind_speed.append(wind_speed_city)\n",
    "        country.append(country_city)\n",
    "        date.append(date_city)\n",
    "        \n",
    "        #add 1 to city number every time it loop\n",
    "        city_number += 1\n",
    "        \n",
    "        #if city number reaches 50, reset city number and add 1 to set number \n",
    "        if city_number >= 51:\n",
    "            set_number += 1\n",
    "            city_number = 0\n",
    "            \n",
    "        #Print log statements\n",
    "        print(f\"Processing Record {city_number} of Set {set_number} | {name_city}\")\n",
    "   \n",
    "    #if city isn't found, skip over it and keep running\n",
    "    except Exception as e:\n",
    "         print('City not found. Skipping...')\n",
    "            \n",
    "#end log statement\n",
    "print(f\"-------------------------------\")\n",
    "print(f\"Data Retrieval Complete\")\n",
    "print(f\"-------------------------------\")"
   ]
  },
  {
   "cell_type": "markdown",
   "metadata": {},
   "source": [
    "### Convert Raw Data to DataFrame\n",
    "* Export the city data into a .csv.\n",
    "* Display the DataFrame"
   ]
  },
  {
   "cell_type": "code",
   "execution_count": 6,
   "metadata": {},
   "outputs": [
    {
     "data": {
      "text/html": [
       "<div>\n",
       "<style scoped>\n",
       "    .dataframe tbody tr th:only-of-type {\n",
       "        vertical-align: middle;\n",
       "    }\n",
       "\n",
       "    .dataframe tbody tr th {\n",
       "        vertical-align: top;\n",
       "    }\n",
       "\n",
       "    .dataframe thead th {\n",
       "        text-align: right;\n",
       "    }\n",
       "</style>\n",
       "<table border=\"1\" class=\"dataframe\">\n",
       "  <thead>\n",
       "    <tr style=\"text-align: right;\">\n",
       "      <th></th>\n",
       "      <th>City</th>\n",
       "      <th>Lat</th>\n",
       "      <th>Lng</th>\n",
       "      <th>Max Temp</th>\n",
       "      <th>Humidity</th>\n",
       "      <th>Cloudiness</th>\n",
       "      <th>Wind Speed</th>\n",
       "      <th>Country</th>\n",
       "      <th>Date</th>\n",
       "    </tr>\n",
       "  </thead>\n",
       "  <tbody>\n",
       "    <tr>\n",
       "      <th>0</th>\n",
       "      <td>Mahon</td>\n",
       "      <td>39.8885</td>\n",
       "      <td>4.2658</td>\n",
       "      <td>72.16</td>\n",
       "      <td>100</td>\n",
       "      <td>0</td>\n",
       "      <td>8.05</td>\n",
       "      <td>ES</td>\n",
       "      <td>1666474053</td>\n",
       "    </tr>\n",
       "    <tr>\n",
       "      <th>1</th>\n",
       "      <td>Longyearbyen</td>\n",
       "      <td>78.2186</td>\n",
       "      <td>15.6401</td>\n",
       "      <td>21.04</td>\n",
       "      <td>58</td>\n",
       "      <td>20</td>\n",
       "      <td>4.61</td>\n",
       "      <td>SJ</td>\n",
       "      <td>1666473481</td>\n",
       "    </tr>\n",
       "    <tr>\n",
       "      <th>2</th>\n",
       "      <td>Thompson</td>\n",
       "      <td>55.7435</td>\n",
       "      <td>-97.8558</td>\n",
       "      <td>41.16</td>\n",
       "      <td>56</td>\n",
       "      <td>75</td>\n",
       "      <td>4.61</td>\n",
       "      <td>CA</td>\n",
       "      <td>1666473477</td>\n",
       "    </tr>\n",
       "    <tr>\n",
       "      <th>3</th>\n",
       "      <td>Saint George</td>\n",
       "      <td>37.1041</td>\n",
       "      <td>-113.5841</td>\n",
       "      <td>79.79</td>\n",
       "      <td>17</td>\n",
       "      <td>0</td>\n",
       "      <td>33.38</td>\n",
       "      <td>US</td>\n",
       "      <td>1666473474</td>\n",
       "    </tr>\n",
       "    <tr>\n",
       "      <th>4</th>\n",
       "      <td>Butaritari</td>\n",
       "      <td>3.0707</td>\n",
       "      <td>172.7902</td>\n",
       "      <td>81.14</td>\n",
       "      <td>67</td>\n",
       "      <td>100</td>\n",
       "      <td>10.13</td>\n",
       "      <td>KI</td>\n",
       "      <td>1666473470</td>\n",
       "    </tr>\n",
       "    <tr>\n",
       "      <th>...</th>\n",
       "      <td>...</td>\n",
       "      <td>...</td>\n",
       "      <td>...</td>\n",
       "      <td>...</td>\n",
       "      <td>...</td>\n",
       "      <td>...</td>\n",
       "      <td>...</td>\n",
       "      <td>...</td>\n",
       "      <td>...</td>\n",
       "    </tr>\n",
       "    <tr>\n",
       "      <th>544</th>\n",
       "      <td>Linqiong</td>\n",
       "      <td>30.4159</td>\n",
       "      <td>103.4609</td>\n",
       "      <td>67.82</td>\n",
       "      <td>62</td>\n",
       "      <td>97</td>\n",
       "      <td>2.08</td>\n",
       "      <td>CN</td>\n",
       "      <td>1666474250</td>\n",
       "    </tr>\n",
       "    <tr>\n",
       "      <th>545</th>\n",
       "      <td>Marabu</td>\n",
       "      <td>4.4148</td>\n",
       "      <td>114.0089</td>\n",
       "      <td>77.14</td>\n",
       "      <td>94</td>\n",
       "      <td>40</td>\n",
       "      <td>0.00</td>\n",
       "      <td>MY</td>\n",
       "      <td>1666474251</td>\n",
       "    </tr>\n",
       "    <tr>\n",
       "      <th>546</th>\n",
       "      <td>Burnie</td>\n",
       "      <td>-41.0667</td>\n",
       "      <td>145.9167</td>\n",
       "      <td>53.94</td>\n",
       "      <td>96</td>\n",
       "      <td>100</td>\n",
       "      <td>13.56</td>\n",
       "      <td>AU</td>\n",
       "      <td>1666474251</td>\n",
       "    </tr>\n",
       "    <tr>\n",
       "      <th>547</th>\n",
       "      <td>Bathsheba</td>\n",
       "      <td>13.2167</td>\n",
       "      <td>-59.5167</td>\n",
       "      <td>84.81</td>\n",
       "      <td>74</td>\n",
       "      <td>40</td>\n",
       "      <td>12.66</td>\n",
       "      <td>BB</td>\n",
       "      <td>1666474252</td>\n",
       "    </tr>\n",
       "    <tr>\n",
       "      <th>548</th>\n",
       "      <td>Merauke</td>\n",
       "      <td>-8.4667</td>\n",
       "      <td>140.3333</td>\n",
       "      <td>81.09</td>\n",
       "      <td>81</td>\n",
       "      <td>14</td>\n",
       "      <td>2.53</td>\n",
       "      <td>ID</td>\n",
       "      <td>1666474252</td>\n",
       "    </tr>\n",
       "  </tbody>\n",
       "</table>\n",
       "<p>549 rows × 9 columns</p>\n",
       "</div>"
      ],
      "text/plain": [
       "             City      Lat       Lng  Max Temp  Humidity  Cloudiness  \\\n",
       "0           Mahon  39.8885    4.2658     72.16       100           0   \n",
       "1    Longyearbyen  78.2186   15.6401     21.04        58          20   \n",
       "2        Thompson  55.7435  -97.8558     41.16        56          75   \n",
       "3    Saint George  37.1041 -113.5841     79.79        17           0   \n",
       "4      Butaritari   3.0707  172.7902     81.14        67         100   \n",
       "..            ...      ...       ...       ...       ...         ...   \n",
       "544      Linqiong  30.4159  103.4609     67.82        62          97   \n",
       "545        Marabu   4.4148  114.0089     77.14        94          40   \n",
       "546        Burnie -41.0667  145.9167     53.94        96         100   \n",
       "547     Bathsheba  13.2167  -59.5167     84.81        74          40   \n",
       "548       Merauke  -8.4667  140.3333     81.09        81          14   \n",
       "\n",
       "     Wind Speed Country        Date  \n",
       "0          8.05      ES  1666474053  \n",
       "1          4.61      SJ  1666473481  \n",
       "2          4.61      CA  1666473477  \n",
       "3         33.38      US  1666473474  \n",
       "4         10.13      KI  1666473470  \n",
       "..          ...     ...         ...  \n",
       "544        2.08      CN  1666474250  \n",
       "545        0.00      MY  1666474251  \n",
       "546       13.56      AU  1666474251  \n",
       "547       12.66      BB  1666474252  \n",
       "548        2.53      ID  1666474252  \n",
       "\n",
       "[549 rows x 9 columns]"
      ]
     },
     "execution_count": 6,
     "metadata": {},
     "output_type": "execute_result"
    }
   ],
   "source": [
    "#create new dataframe \n",
    "city_data = pd.DataFrame({\n",
    "                          \"City\": name, \n",
    "                          \"Lat\": lat, \n",
    "                          \"Lng\": long, \n",
    "                          \"Max Temp\": max_temp, \n",
    "                          \"Humidity\": humidity, \n",
    "                          \"Cloudiness\": cloudiness, \n",
    "                          \"Wind Speed\": wind_speed, \n",
    "                          \"Country\": country, \n",
    "                          \"Date\": date\n",
    "    \n",
    "})\n",
    "\n",
    "#export dataframe to cvs\n",
    "city_data.to_csv('city_data.csv')\n",
    "\n",
    "#print dataframe \n",
    "city_data"
   ]
  },
  {
   "cell_type": "code",
   "execution_count": 7,
   "metadata": {},
   "outputs": [
    {
     "data": {
      "text/html": [
       "<div>\n",
       "<style scoped>\n",
       "    .dataframe tbody tr th:only-of-type {\n",
       "        vertical-align: middle;\n",
       "    }\n",
       "\n",
       "    .dataframe tbody tr th {\n",
       "        vertical-align: top;\n",
       "    }\n",
       "\n",
       "    .dataframe thead th {\n",
       "        text-align: right;\n",
       "    }\n",
       "</style>\n",
       "<table border=\"1\" class=\"dataframe\">\n",
       "  <thead>\n",
       "    <tr style=\"text-align: right;\">\n",
       "      <th></th>\n",
       "      <th>Lat</th>\n",
       "      <th>Lng</th>\n",
       "      <th>Max Temp</th>\n",
       "      <th>Humidity</th>\n",
       "      <th>Cloudiness</th>\n",
       "      <th>Wind Speed</th>\n",
       "      <th>Date</th>\n",
       "    </tr>\n",
       "  </thead>\n",
       "  <tbody>\n",
       "    <tr>\n",
       "      <th>count</th>\n",
       "      <td>549.000000</td>\n",
       "      <td>549.000000</td>\n",
       "      <td>549.000000</td>\n",
       "      <td>549.000000</td>\n",
       "      <td>549.000000</td>\n",
       "      <td>549.000000</td>\n",
       "      <td>5.490000e+02</td>\n",
       "    </tr>\n",
       "    <tr>\n",
       "      <th>mean</th>\n",
       "      <td>21.612882</td>\n",
       "      <td>18.225450</td>\n",
       "      <td>60.557413</td>\n",
       "      <td>72.189435</td>\n",
       "      <td>54.360656</td>\n",
       "      <td>8.390947</td>\n",
       "      <td>1.666474e+09</td>\n",
       "    </tr>\n",
       "    <tr>\n",
       "      <th>std</th>\n",
       "      <td>32.541200</td>\n",
       "      <td>91.614113</td>\n",
       "      <td>20.383460</td>\n",
       "      <td>21.102647</td>\n",
       "      <td>40.919464</td>\n",
       "      <td>5.992072</td>\n",
       "      <td>2.463445e+02</td>\n",
       "    </tr>\n",
       "    <tr>\n",
       "      <th>min</th>\n",
       "      <td>-54.800000</td>\n",
       "      <td>-175.200000</td>\n",
       "      <td>-14.060000</td>\n",
       "      <td>6.000000</td>\n",
       "      <td>0.000000</td>\n",
       "      <td>0.000000</td>\n",
       "      <td>1.666473e+09</td>\n",
       "    </tr>\n",
       "    <tr>\n",
       "      <th>25%</th>\n",
       "      <td>-3.666700</td>\n",
       "      <td>-65.712500</td>\n",
       "      <td>48.250000</td>\n",
       "      <td>63.000000</td>\n",
       "      <td>7.000000</td>\n",
       "      <td>4.120000</td>\n",
       "      <td>1.666474e+09</td>\n",
       "    </tr>\n",
       "    <tr>\n",
       "      <th>50%</th>\n",
       "      <td>26.650300</td>\n",
       "      <td>22.636700</td>\n",
       "      <td>65.980000</td>\n",
       "      <td>78.000000</td>\n",
       "      <td>65.000000</td>\n",
       "      <td>6.960000</td>\n",
       "      <td>1.666474e+09</td>\n",
       "    </tr>\n",
       "    <tr>\n",
       "      <th>75%</th>\n",
       "      <td>48.826400</td>\n",
       "      <td>100.335400</td>\n",
       "      <td>77.110000</td>\n",
       "      <td>87.000000</td>\n",
       "      <td>100.000000</td>\n",
       "      <td>11.500000</td>\n",
       "      <td>1.666474e+09</td>\n",
       "    </tr>\n",
       "    <tr>\n",
       "      <th>max</th>\n",
       "      <td>78.218600</td>\n",
       "      <td>179.316700</td>\n",
       "      <td>91.560000</td>\n",
       "      <td>100.000000</td>\n",
       "      <td>100.000000</td>\n",
       "      <td>42.480000</td>\n",
       "      <td>1.666474e+09</td>\n",
       "    </tr>\n",
       "  </tbody>\n",
       "</table>\n",
       "</div>"
      ],
      "text/plain": [
       "              Lat         Lng    Max Temp    Humidity  Cloudiness  Wind Speed  \\\n",
       "count  549.000000  549.000000  549.000000  549.000000  549.000000  549.000000   \n",
       "mean    21.612882   18.225450   60.557413   72.189435   54.360656    8.390947   \n",
       "std     32.541200   91.614113   20.383460   21.102647   40.919464    5.992072   \n",
       "min    -54.800000 -175.200000  -14.060000    6.000000    0.000000    0.000000   \n",
       "25%     -3.666700  -65.712500   48.250000   63.000000    7.000000    4.120000   \n",
       "50%     26.650300   22.636700   65.980000   78.000000   65.000000    6.960000   \n",
       "75%     48.826400  100.335400   77.110000   87.000000  100.000000   11.500000   \n",
       "max     78.218600  179.316700   91.560000  100.000000  100.000000   42.480000   \n",
       "\n",
       "               Date  \n",
       "count  5.490000e+02  \n",
       "mean   1.666474e+09  \n",
       "std    2.463445e+02  \n",
       "min    1.666473e+09  \n",
       "25%    1.666474e+09  \n",
       "50%    1.666474e+09  \n",
       "75%    1.666474e+09  \n",
       "max    1.666474e+09  "
      ]
     },
     "execution_count": 7,
     "metadata": {},
     "output_type": "execute_result"
    }
   ],
   "source": [
    "#describe dataset \n",
    "city_data.describe()"
   ]
  },
  {
   "cell_type": "markdown",
   "metadata": {},
   "source": [
    "## Inspect the data and remove the cities where the humidity > 100%.\n",
    "----\n",
    "Skip this step if there are no cities that have humidity > 100%. "
   ]
  },
  {
   "cell_type": "code",
   "execution_count": 8,
   "metadata": {},
   "outputs": [
    {
     "data": {
      "text/plain": [
       "count    549.000000\n",
       "mean      72.189435\n",
       "std       21.102647\n",
       "min        6.000000\n",
       "25%       63.000000\n",
       "50%       78.000000\n",
       "75%       87.000000\n",
       "max      100.000000\n",
       "Name: Humidity, dtype: float64"
      ]
     },
     "execution_count": 8,
     "metadata": {},
     "output_type": "execute_result"
    }
   ],
   "source": [
    "#find max humidity to determine if cities need to be removed \n",
    "city_data[\"Humidity\"].describe()\n",
    "\n",
    "#max humidity for the dataset is 100% so no data needs to be removed"
   ]
  },
  {
   "cell_type": "code",
   "execution_count": 9,
   "metadata": {},
   "outputs": [],
   "source": [
    "#  Get the indices of cities that have humidity over 100%."
   ]
  },
  {
   "cell_type": "code",
   "execution_count": 10,
   "metadata": {},
   "outputs": [],
   "source": [
    "# Make a new DataFrame equal to the city data to drop all humidity outliers by index.\n",
    "# Passing \"inplace=False\" will make a copy of the city_data DataFrame, which we call \"clean_city_data\"."
   ]
  },
  {
   "cell_type": "markdown",
   "metadata": {},
   "source": [
    "## Plotting the Data\n",
    "* Use proper labeling of the plots using plot titles (including date of analysis) and axes labels.\n",
    "* Save the plotted figures as .pngs."
   ]
  },
  {
   "cell_type": "markdown",
   "metadata": {},
   "source": [
    "## Latitude vs. Temperature Plot"
   ]
  },
  {
   "cell_type": "code",
   "execution_count": 11,
   "metadata": {
    "scrolled": true
   },
   "outputs": [
    {
     "data": {
      "image/png": "[encoded data removed]",
      "text/plain": [
       "<Figure size 432x288 with 1 Axes>"
      ]
     },
     "metadata": {
      "needs_background": "light"
     },
     "output_type": "display_data"
    }
   ],
   "source": [
    "#create x and y values \n",
    "x_values = (city_data[\"Lat\"])\n",
    "y_values = (city_data[\"Max Temp\"])\n",
    "\n",
    "#plot values  \n",
    "plt.scatter(x_values,y_values)\n",
    "\n",
    "#create lables and title \n",
    "plt.xlabel('Latitude')\n",
    "plt.ylabel('Max Temperature (F)')\n",
    "plt.title(\"City Latitude vs Max Temperature (10/22/22)\")\n",
    "\n",
    "#export chart to pngs\n",
    "plt.savefig(\"Lat_Vs_Temp.png\")\n",
    "\n",
    "#show plot \n",
    "plt.show()"
   ]
  },
  {
   "cell_type": "markdown",
   "metadata": {},
   "source": [
    "This scatterplot shows the relationship between the cities' latitude and maximum temperature."
   ]
  },
  {
   "cell_type": "markdown",
   "metadata": {},
   "source": [
    "## Latitude vs. Humidity Plot"
   ]
  },
  {
   "cell_type": "code",
   "execution_count": 12,
   "metadata": {},
   "outputs": [
    {
     "data": {
      "image/png": "[encoded data removed]",
      "text/plain": [
       "<Figure size 432x288 with 1 Axes>"
      ]
     },
     "metadata": {
      "needs_background": "light"
     },
     "output_type": "display_data"
    }
   ],
   "source": [
    "#create x and y values \n",
    "x_values = (city_data[\"Lat\"])\n",
    "y_values = (city_data[\"Humidity\"])\n",
    "\n",
    "#plot values \n",
    "plt.scatter(x_values,y_values)\n",
    "\n",
    "#create lables and title \n",
    "plt.xlabel('Latitude')\n",
    "plt.ylabel('Humidity (%)')\n",
    "plt.title(\"City Latitude vs Humidity (10/22/22)\")\n",
    "\n",
    "#export chart to pngs\n",
    "plt.savefig(\"Lat_Vs_Humidity.png\")\n",
    "\n",
    "#show plot \n",
    "plt.show()"
   ]
  },
  {
   "cell_type": "markdown",
   "metadata": {},
   "source": [
    "This scatterplot shows the relationship between the cities' latitude and humidity. "
   ]
  },
  {
   "cell_type": "markdown",
   "metadata": {},
   "source": [
    "## Latitude vs. Cloudiness Plot"
   ]
  },
  {
   "cell_type": "code",
   "execution_count": 13,
   "metadata": {},
   "outputs": [
    {
     "data": {
      "image/png": "[encoded data removed]",
      "text/plain": [
       "<Figure size 432x288 with 1 Axes>"
      ]
     },
     "metadata": {
      "needs_background": "light"
     },
     "output_type": "display_data"
    }
   ],
   "source": [
    "#create x and y values \n",
    "x_values = (city_data[\"Lat\"])\n",
    "y_values = (city_data[\"Cloudiness\"])\n",
    "\n",
    "#plot values\n",
    "plt.scatter(x_values,y_values)\n",
    "\n",
    "#create lables and title \n",
    "plt.xlabel('Latitude')\n",
    "plt.ylabel('Cloudiness(%))')\n",
    "plt.title(\"City Latitude vs Cloudiness (10/22/22)\")\n",
    "\n",
    "#export chart to pngs\n",
    "plt.savefig(\"Lat_Vs_Cloudiness.png\")\n",
    "\n",
    "#show plot\n",
    "plt.show()"
   ]
  },
  {
   "cell_type": "markdown",
   "metadata": {},
   "source": [
    "This scatterplot shows the relationship between the cities' latitude and cloudiness. "
   ]
  },
  {
   "cell_type": "markdown",
   "metadata": {},
   "source": [
    "## Latitude vs. Wind Speed Plot"
   ]
  },
  {
   "cell_type": "code",
   "execution_count": 14,
   "metadata": {},
   "outputs": [
    {
     "data": {
      "image/png": "[encoded data removed]",
      "text/plain": [
       "<Figure size 432x288 with 1 Axes>"
      ]
     },
     "metadata": {
      "needs_background": "light"
     },
     "output_type": "display_data"
    }
   ],
   "source": [
    "#create x and y values \n",
    "x_values = (city_data[\"Lat\"])\n",
    "y_values = (city_data[\"Wind Speed\"])\n",
    "\n",
    "#plot values\n",
    "plt.scatter(x_values,y_values)\n",
    "\n",
    "#create lables and title\n",
    "plt.xlabel('Latitude')\n",
    "plt.ylabel('Wind Speed (mph)')\n",
    "plt.title(\"City Latitude vs Wind Speed (10/22/22)\")\n",
    "\n",
    "#export chart to pngs\n",
    "plt.savefig(\"Lat_Vs_Wind_Speed.png\")\n",
    "\n",
    "#show plot \n",
    "plt.show()"
   ]
  },
  {
   "cell_type": "markdown",
   "metadata": {},
   "source": [
    "This scatterplot shows the relationship between the cities' latitude and wind speed. "
   ]
  },
  {
   "cell_type": "markdown",
   "metadata": {},
   "source": [
    "## Linear Regression"
   ]
  },
  {
   "cell_type": "code",
   "execution_count": 15,
   "metadata": {},
   "outputs": [],
   "source": [
    "#separate the plots into Northern Hemisphere (greater than or equal to 0 degrees latitude) and Southern Hemisphere (less than 0 degrees latitude)\n",
    "northern_hem = city_data.loc[city_data[\"Lat\"] >= 0]\n",
    "southern_hem = city_data.loc[city_data[\"Lat\"] <= 0]"
   ]
  },
  {
   "cell_type": "markdown",
   "metadata": {},
   "source": [
    "####  Northern Hemisphere - Max Temp vs. Latitude Linear Regression"
   ]
  },
  {
   "cell_type": "code",
   "execution_count": 16,
   "metadata": {},
   "outputs": [
    {
     "name": "stdout",
     "output_type": "stream",
     "text": [
      "The r-value is: -0.8405198021406061\n"
     ]
    },
    {
     "data": {
      "image/png": "[encoded data removed]",
      "text/plain": [
       "<Figure size 432x288 with 1 Axes>"
      ]
     },
     "metadata": {
      "needs_background": "light"
     },
     "output_type": "display_data"
    }
   ],
   "source": [
    "#create x and y values \n",
    "x_values = (northern_hem[\"Lat\"])\n",
    "y_values = (northern_hem[\"Max Temp\"])\n",
    "\n",
    "# Create equation of line \n",
    "slope, intercept, rvalue, pvalue, stderr = linregress(x_values, y_values)\n",
    "\n",
    "# Perform a linear regression \n",
    "regress_values = x_values * slope + intercept\n",
    "\n",
    "#plot values \n",
    "plt.scatter(x_values,y_values)\n",
    "\n",
    "#plot regression line \n",
    "plt.plot(x_values,regress_values,\"r-\")\n",
    "\n",
    "#create regression equation\n",
    "line_eq = \"y = \" + str(round(slope,2)) + \"x + \" + str(round(intercept,2))\n",
    "\n",
    "#show equation on plot \n",
    "plt.annotate(line_eq,(3,10),fontsize=15,color=\"red\")\n",
    "\n",
    "#create lables and title \n",
    "plt.xlabel('Latitude')\n",
    "plt.ylabel('Maximum Temperature ')\n",
    "plt.title(\"City Latitude vs Max Temp in the Northern Hemisphere (10/22/2022)\")\n",
    "\n",
    "#print rvalue \n",
    "print (f'The r-value is: {rvalue}')\n",
    "\n",
    "#export chart to pngs\n",
    "plt.savefig(\"Northern_Hem_Lat_Vs_Temp.png\")\n",
    "\n",
    "#show plot \n",
    "plt.show()"
   ]
  },
  {
   "cell_type": "markdown",
   "metadata": {},
   "source": [
    "This linear regression shows a strong negative correlation between the cities' latitude and maximum temperature in the northern hemisphere. As the cities' latitude increases, the maximum temperature decreases. "
   ]
  },
  {
   "cell_type": "markdown",
   "metadata": {},
   "source": [
    "####  Southern Hemisphere - Max Temp vs. Latitude Linear Regression"
   ]
  },
  {
   "cell_type": "code",
   "execution_count": 17,
   "metadata": {},
   "outputs": [
    {
     "name": "stdout",
     "output_type": "stream",
     "text": [
      "The r-value is: 0.7743354294030806\n"
     ]
    },
    {
     "data": {
      "image/png": "[encoded data removed]",
      "text/plain": [
       "<Figure size 432x288 with 1 Axes>"
      ]
     },
     "metadata": {
      "needs_background": "light"
     },
     "output_type": "display_data"
    }
   ],
   "source": [
    "#create x and y values \n",
    "x_values = (southern_hem[\"Lat\"])\n",
    "y_values = (southern_hem[\"Max Temp\"])\n",
    "\n",
    "# Create equation of line \n",
    "slope, intercept, rvalue, pvalue, stderr = linregress(x_values, y_values)\n",
    "\n",
    "# Perform a linear regression \n",
    "regress_values = x_values * slope + intercept\n",
    "\n",
    "#plot values \n",
    "plt.scatter(x_values,y_values)\n",
    "\n",
    "#plot regression line \n",
    "plt.plot(x_values,regress_values,\"r-\")\n",
    "\n",
    "#create regression equation\n",
    "line_eq = \"y = \" + str(round(slope,2)) + \"x + \" + str(round(intercept,2))\n",
    "\n",
    "#show equation on plot \n",
    "plt.annotate(line_eq,(-27,50),fontsize=15,color=\"red\")\n",
    "\n",
    "#create labels and title \n",
    "plt.xlabel('Latitude')\n",
    "plt.ylabel('Maximum Temperature ')\n",
    "plt.title(\"City Latitude vs Max Temp in the Southern Hemisphere (10/22/2022)\")\n",
    "\n",
    "#print rvalue \n",
    "print (f'The r-value is: {rvalue}')\n",
    "\n",
    "#export chart to pngs\n",
    "plt.savefig(\"Southern_Hem_Lat_Vs_Temp.png\")\n",
    "\n",
    "#show plot \n",
    "plt.show()"
   ]
  },
  {
   "cell_type": "markdown",
   "metadata": {},
   "source": [
    "This linear regression shows a strong positive correlation between the cities' latitude and maximum temperature in the southern hemisphere. As the cities' latitude increases, the maximum temperature increases. "
   ]
  },
  {
   "cell_type": "markdown",
   "metadata": {},
   "source": [
    "####  Northern Hemisphere - Humidity (%) vs. Latitude Linear Regression"
   ]
  },
  {
   "cell_type": "code",
   "execution_count": 18,
   "metadata": {},
   "outputs": [
    {
     "name": "stdout",
     "output_type": "stream",
     "text": [
      "The r-value is: 0.24282144493671076\n"
     ]
    },
    {
     "data": {
      "image/png": "[encoded data removed]",
      "text/plain": [
       "<Figure size 432x288 with 1 Axes>"
      ]
     },
     "metadata": {
      "needs_background": "light"
     },
     "output_type": "display_data"
    }
   ],
   "source": [
    "#create x and y values \n",
    "x_values = (northern_hem[\"Lat\"])\n",
    "y_values = (northern_hem[\"Humidity\"])\n",
    "\n",
    "# Create equation of line \n",
    "slope, intercept, rvalue, pvalue, stderr = linregress(x_values, y_values)\n",
    "\n",
    "# Perform a linear regression \n",
    "regress_values = x_values * slope + intercept\n",
    "\n",
    "#plot values \n",
    "plt.scatter(x_values,y_values)\n",
    "\n",
    "#plot regression line \n",
    "plt.plot(x_values,regress_values,\"r-\")\n",
    "\n",
    "#create regression equation\n",
    "line_eq = \"y = \" + str(round(slope,2)) + \"x + \" + str(round(intercept,2))\n",
    "\n",
    "#show equation on plot \n",
    "plt.annotate(line_eq,(45,13),fontsize=15,color=\"red\")\n",
    "\n",
    "#create lables and title \n",
    "plt.xlabel('Latitude')\n",
    "plt.ylabel('Humidity (%) ')\n",
    "plt.title(\"City Latitude vs Humidity in the Northern Hemisphere (10/22/2022)\")\n",
    "\n",
    "#print rvalue \n",
    "print (f'The r-value is: {rvalue}')\n",
    "\n",
    "#export chart to pngs\n",
    "plt.savefig(\"Northern_Hem_Lat_Vs_Humidity.png\")\n",
    "\n",
    "#show plot \n",
    "plt.show()"
   ]
  },
  {
   "cell_type": "markdown",
   "metadata": {},
   "source": [
    "This linear regression shows a weak positive correlation between the cities' latitude and humidity in the northern hemisphere. As the cities' latitude increases, the humidity also increases slightly. "
   ]
  },
  {
   "cell_type": "markdown",
   "metadata": {},
   "source": [
    "####  Southern Hemisphere - Humidity (%) vs. Latitude Linear Regression"
   ]
  },
  {
   "cell_type": "code",
   "execution_count": 19,
   "metadata": {},
   "outputs": [
    {
     "name": "stdout",
     "output_type": "stream",
     "text": [
      "The r-value is: 0.15323185419098695\n"
     ]
    },
    {
     "data": {
      "image/png": "[encoded data removed]",
      "text/plain": [
       "<Figure size 432x288 with 1 Axes>"
      ]
     },
     "metadata": {
      "needs_background": "light"
     },
     "output_type": "display_data"
    }
   ],
   "source": [
    "#create x and y values \n",
    "x_values = (southern_hem[\"Lat\"])\n",
    "y_values = (southern_hem[\"Humidity\"])\n",
    "\n",
    "# Create equation of line \n",
    "slope, intercept, rvalue, pvalue, stderr = linregress(x_values, y_values)\n",
    "\n",
    "# Perform a linear regression \n",
    "regress_values = x_values * slope + intercept\n",
    "\n",
    "#plot values \n",
    "plt.scatter(x_values,y_values)\n",
    "\n",
    "#plot regression line \n",
    "plt.plot(x_values,regress_values,\"r-\")\n",
    "\n",
    "#create regression equation \n",
    "line_eq = \"y = \" + str(round(slope,2)) + \"x + \" + str(round(intercept,2))\n",
    "\n",
    "#show equation on plot \n",
    "plt.annotate(line_eq,(-25,7),fontsize=15,color=\"red\")\n",
    "\n",
    "#create labels and title \n",
    "plt.xlabel('Latitude')\n",
    "plt.ylabel('Humidity (%) ')\n",
    "plt.title(\"City Latitude vs Humidity in the Southern Hemisphere (10/22/2022)\")\n",
    "\n",
    "#print rvalue \n",
    "print (f'The r-value is: {rvalue}')\n",
    "\n",
    "#export chart to pngs\n",
    "plt.savefig(\"Southern_Hem_Lat_Vs_Humidity.png\")\n",
    "\n",
    "#show plot \n",
    "plt.show()"
   ]
  },
  {
   "cell_type": "markdown",
   "metadata": {},
   "source": [
    "This linear regression shows a weak positive correlation between the cities' latitude and humidity in the southern hemisphere. As the cities' latitude increases, the humidity also increases slightly. "
   ]
  },
  {
   "cell_type": "markdown",
   "metadata": {},
   "source": [
    "####  Northern Hemisphere - Cloudiness (%) vs. Latitude Linear Regression"
   ]
  },
  {
   "cell_type": "code",
   "execution_count": 20,
   "metadata": {},
   "outputs": [
    {
     "name": "stdout",
     "output_type": "stream",
     "text": [
      "The r-value is: 0.21238262600908878\n"
     ]
    },
    {
     "data": {
      "image/png": "[encoded data removed]",
      "text/plain": [
       "<Figure size 432x288 with 1 Axes>"
      ]
     },
     "metadata": {
      "needs_background": "light"
     },
     "output_type": "display_data"
    }
   ],
   "source": [
    "#create x and y values \n",
    "x_values = (northern_hem[\"Lat\"])\n",
    "y_values = (northern_hem[\"Cloudiness\"])\n",
    "\n",
    "# Create equation of line \n",
    "slope, intercept, rvalue, pvalue, stderr = linregress(x_values, y_values)\n",
    "\n",
    "# Perform a linear regression \n",
    "regress_values = x_values * slope + intercept\n",
    "\n",
    "#plot values \n",
    "plt.scatter(x_values,y_values)\n",
    "\n",
    "#plot regression line \n",
    "plt.plot(x_values,regress_values,\"r-\")\n",
    "\n",
    "#create regression equation\n",
    "line_eq = \"y = \" + str(round(slope,2)) + \"x + \" + str(round(intercept,2))\n",
    "\n",
    "#show equation on plot \n",
    "plt.annotate(line_eq,(45,40),fontsize=15,color=\"red\")\n",
    "\n",
    "#create lables and title \n",
    "plt.xlabel('Latitude')\n",
    "plt.ylabel('Cloudiness (%) ')\n",
    "plt.title(\"City Latitude vs Cloudiness in the Northern Hemisphere (10/22/2022)\")\n",
    "\n",
    "#print rvalue \n",
    "print (f'The r-value is: {rvalue}')\n",
    "\n",
    "#export chart to pngs\n",
    "plt.savefig(\"Northern_Hem_Lat_Vs_Cloudiness.png\")\n",
    "\n",
    "#show plot \n",
    "plt.show()"
   ]
  },
  {
   "cell_type": "markdown",
   "metadata": {},
   "source": [
    "This linear regression shows a weak positive correlation between the cities' latitude and cloudiness in the northern hemisphere. As the cities' latitude increases, the cloudiness also increases slightly. "
   ]
  },
  {
   "cell_type": "markdown",
   "metadata": {},
   "source": [
    "####  Southern Hemisphere - Cloudiness (%) vs. Latitude Linear Regression"
   ]
  },
  {
   "cell_type": "code",
   "execution_count": 21,
   "metadata": {},
   "outputs": [
    {
     "name": "stdout",
     "output_type": "stream",
     "text": [
      "The r-value is: 0.2359733651559997\n"
     ]
    },
    {
     "data": {
      "image/png": "[encoded data removed]",
      "text/plain": [
       "<Figure size 432x288 with 1 Axes>"
      ]
     },
     "metadata": {
      "needs_background": "light"
     },
     "output_type": "display_data"
    }
   ],
   "source": [
    "#create x and y values \n",
    "x_values = (southern_hem[\"Lat\"])\n",
    "y_values = (southern_hem[\"Cloudiness\"])\n",
    "\n",
    "# Create equation of line \n",
    "slope, intercept, rvalue, pvalue, stderr = linregress(x_values, y_values)\n",
    "\n",
    "# Perform a linear regression \n",
    "regress_values = x_values * slope + intercept\n",
    "\n",
    "#plot values \n",
    "plt.scatter(x_values,y_values)\n",
    "\n",
    "#plot regression line \n",
    "plt.plot(x_values,regress_values,\"r-\")\n",
    "\n",
    "#create regression equation\n",
    "line_eq = \"y = \" + str(round(slope,2)) + \"x + \" + str(round(intercept,2))\n",
    "\n",
    "#show equation on plot \n",
    "plt.annotate(line_eq,(-56,60),fontsize=15,color=\"red\")\n",
    "\n",
    "#create labels ansd title \n",
    "plt.xlabel('Latitude')\n",
    "plt.ylabel('Cloudiness (%) ')\n",
    "plt.title(\"City Latitude vs Cloudiness in the Southern Hemisphere (10/22/2022)\")\n",
    "\n",
    "#print rvalue \n",
    "print (f'The r-value is: {rvalue}')\n",
    "\n",
    "#export chart to pngs\n",
    "plt.savefig(\"Southern_Hem_Lat_Vs_Cloudiness.png\")\n",
    "\n",
    "#show plot \n",
    "plt.show()"
   ]
  },
  {
   "cell_type": "markdown",
   "metadata": {},
   "source": [
    "This linear regression shows a weak positive correlation between the cities' latitude and cloudiness in the southern hemisphere. As the cities' latitude increases, the cloudiness also increases slightly."
   ]
  },
  {
   "cell_type": "markdown",
   "metadata": {},
   "source": [
    "####  Northern Hemisphere - Wind Speed (mph) vs. Latitude Linear Regression"
   ]
  },
  {
   "cell_type": "code",
   "execution_count": 22,
   "metadata": {},
   "outputs": [
    {
     "name": "stdout",
     "output_type": "stream",
     "text": [
      "The r-value is: 0.15234422333251266\n"
     ]
    },
    {
     "data": {
      "image/png": "[encoded data removed]",
      "text/plain": [
       "<Figure size 432x288 with 1 Axes>"
      ]
     },
     "metadata": {
      "needs_background": "light"
     },
     "output_type": "display_data"
    }
   ],
   "source": [
    "#create x and y values \n",
    "x_values = (northern_hem[\"Lat\"])\n",
    "y_values = (northern_hem[\"Wind Speed\"])\n",
    "\n",
    "\n",
    "# Create equation of line \n",
    "slope, intercept, rvalue, pvalue, stderr = linregress(x_values, y_values)\n",
    "\n",
    "# Perform a linear regression \n",
    "regress_values = x_values * slope + intercept\n",
    "\n",
    "#plot values \n",
    "plt.scatter(x_values,y_values)\n",
    "\n",
    "#plot regression line \n",
    "plt.plot(x_values,regress_values,\"r-\")\n",
    "\n",
    "#create regression equation\n",
    "line_eq = \"y = \" + str(round(slope,2)) + \"x + \" + str(round(intercept,2))\n",
    "\n",
    "#show equation on plot \n",
    "plt.annotate(line_eq,(0,35),fontsize=15,color=\"red\")\n",
    "\n",
    "#create labels and title \n",
    "plt.xlabel('Latitude')\n",
    "plt.ylabel('Wind Speed (mph) ')\n",
    "plt.title(\"City Latitude vs Wind Speed in the Northern Hemisphere (10/22/2022)\")\n",
    "\n",
    "#print rvalue \n",
    "print (f'The r-value is: {rvalue}')\n",
    "\n",
    "#export chart to pngs\n",
    "plt.savefig(\"Northern_Hem_Lat_Vs_Wind_Speed.png\")\n",
    "\n",
    "#show plot \n",
    "plt.show()"
   ]
  },
  {
   "cell_type": "markdown",
   "metadata": {},
   "source": [
    "This linear regression shows a very weak positive correlation between the cities' latitude and wind speed in the northern hemisphere. As the cities' latitude increases, the wind speed also increases slightly."
   ]
  },
  {
   "cell_type": "markdown",
   "metadata": {},
   "source": [
    "####  Southern Hemisphere - Wind Speed (mph) vs. Latitude Linear Regression"
   ]
  },
  {
   "cell_type": "code",
   "execution_count": 23,
   "metadata": {},
   "outputs": [
    {
     "name": "stdout",
     "output_type": "stream",
     "text": [
      "The r-value is: -0.20383661943142906\n"
     ]
    },
    {
     "data": {
      "image/png": "[encoded data removed]",
      "text/plain": [
       "<Figure size 432x288 with 1 Axes>"
      ]
     },
     "metadata": {
      "needs_background": "light"
     },
     "output_type": "display_data"
    }
   ],
   "source": [
    "#create x and y values \n",
    "x_values = (southern_hem[\"Lat\"])\n",
    "y_values = (southern_hem[\"Wind Speed\"])\n",
    "\n",
    "# Create equation of line \n",
    "slope, intercept, rvalue, pvalue, stderr = linregress(x_values, y_values)\n",
    "\n",
    "# Perform a linear regression \n",
    "regress_values = x_values * slope + intercept\n",
    "\n",
    "#plot values \n",
    "plt.scatter(x_values,y_values)\n",
    "\n",
    "#plot regression line \n",
    "plt.plot(x_values,regress_values,\"r-\")\n",
    "\n",
    "#create regression equation\n",
    "line_eq = \"y = \" + str(round(slope,2)) + \"x + \" + str(round(intercept,2))\n",
    "\n",
    "#show equation on plot \n",
    "plt.annotate(line_eq,(-55,27),fontsize=15,color=\"red\")\n",
    "\n",
    "#create labels and title \n",
    "plt.xlabel('Latitude')\n",
    "plt.ylabel('Wind Speed (mph) ')\n",
    "plt.title(\"City Latitude vs Wind Speed in the Southern Hemisphere (10/22/2022)\")\n",
    "\n",
    "#print rvalue \n",
    "print (f'The r-value is: {rvalue}')\n",
    "\n",
    "#export chart to pngs\n",
    "plt.savefig(\"Southern_Hem_Lat_Vs_Wind_Speed.png\")\n",
    "\n",
    "#show plot \n",
    "plt.show()"
   ]
  },
  {
   "cell_type": "markdown",
   "metadata": {},
   "source": [
    "This linear regression shows a weak negative correlation between the cities' latitude and wind speed in the southern hemisphere. As the cities' latitude increases, the wind speed decreases slightly."
   ]
  },
  {
   "cell_type": "markdown",
   "metadata": {},
   "source": [
    "#### Three Observable Trends"
   ]
  },
  {
   "cell_type": "markdown",
   "metadata": {},
   "source": [
    "1) In the graph measuring latitude vs max temp, the values are clustered together near the equator. As cities move farther from the equator, there is more variation in temperature. \n",
    "\n",
    "2) The humidity levels of cities is more concentrated in high percentages across all included latitudes indicating that all cities experience similar humidity levels despite latitude . \n",
    "\n",
    "3) The wind speed of cities is more concentrated in low mph across all included latitudes indicating that all cities experience similar wind speeds despite latitude. "
   ]
  },
  {
   "cell_type": "code",
   "execution_count": null,
   "metadata": {},
   "outputs": [],
   "source": []
  }
 ],
 "metadata": {
  "anaconda-cloud": {},
  "kernel_info": {
   "name": "python3"
  },
  "kernelspec": {
   "display_name": "Python 3 (ipykernel)",
   "language": "python",
   "name": "python3"
  },
  "language_info": {
   "codemirror_mode": {
    "name": "ipython",
    "version": 3
   },
   "file_extension": ".py",
   "mimetype": "text/x-python",
   "name": "python",
   "nbconvert_exporter": "python",
   "pygments_lexer": "ipython3",
   "version": "3.9.12"
  },
  "latex_envs": {
   "LaTeX_envs_menu_present": true,
   "autoclose": false,
   "autocomplete": true,
   "bibliofile": "biblio.bib",
   "cite_by": "apalike",
   "current_citInitial": 1,
   "eqLabelWithNumbers": true,
   "eqNumInitial": 1,
   "hotkeys": {
    "equation": "Ctrl-E",
    "itemize": "Ctrl-I"
   },
   "labels_anchors": false,
   "latex_user_defs": false,
   "report_style_numbering": false,
   "user_envs_cfg": false
  },
  "nteract": {
   "version": "0.12.3"
  }
 },
 "nbformat": 4,
 "nbformat_minor": 2
}
